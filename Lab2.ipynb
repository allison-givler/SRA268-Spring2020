{
  "nbformat": 4,
  "nbformat_minor": 0,
  "metadata": {
    "colab": {
      "name": "Lab2Template.ipynb",
      "provenance": [],
      "include_colab_link": true
    },
    "kernelspec": {
      "name": "python3",
      "display_name": "Python 3"
    }
  },
  "cells": [
    {
      "cell_type": "markdown",
      "metadata": {
        "id": "view-in-github",
        "colab_type": "text"
      },
      "source": [
        "<a href=\"https://colab.research.google.com/github/allison-givler/SRA268-Spring2020/blob/master/Lab2.ipynb\" target=\"_parent\"><img src=\"https://colab.research.google.com/assets/colab-badge.svg\" alt=\"Open In Colab\"/></a>"
      ]
    },
    {
      "cell_type": "markdown",
      "metadata": {
        "id": "6sOc4Uyr4U-Z",
        "colab_type": "text"
      },
      "source": [
        "## Graph Types"
      ]
    },
    {
      "cell_type": "markdown",
      "metadata": {
        "id": "0zZdVLAd5CYr",
        "colab_type": "text"
      },
      "source": [
        "Creator\n",
        "* Allison Givler"
      ]
    },
    {
      "cell_type": "markdown",
      "metadata": {
        "id": "g-r6Clq45Hn4",
        "colab_type": "text"
      },
      "source": [
        "### Deviation\n"
      ]
    },
    {
      "cell_type": "markdown",
      "metadata": {
        "id": "2gorxo6E7A0t",
        "colab_type": "text"
      },
      "source": [
        "![Deviation](https://raw.githubusercontent.com/allison-givler/SRA268-Spring2020/master/images/Deviation.png)"
      ]
    },
    {
      "cell_type": "markdown",
      "metadata": {
        "id": "w6bZ_NEi7E3w",
        "colab_type": "text"
      },
      "source": [
        "#### What is this telling us?"
      ]
    },
    {
      "cell_type": "markdown",
      "metadata": {
        "id": "95L-spaC7QHF",
        "colab_type": "text"
      },
      "source": [
        "This graph is displaying the deviation between the average points that thegiven teams won by and the average points they lost by in a game. You can see the variance outlined in the difference in length of the bars for the points the team won by and those that they lost by. This graph is an example of a spine graph and it splits one value into two different components. Spine graphs are useful in showing the difference between two categories that are helpful to compare. A common way to use a spine graph is to display the difference between male and female representation in a given category. "
      ]
    },
    {
      "cell_type": "markdown",
      "metadata": {
        "id": "YgXyXjmz7cDP",
        "colab_type": "text"
      },
      "source": [
        "### Correlation\n"
      ]
    },
    {
      "cell_type": "markdown",
      "metadata": {
        "id": "SGx15rZq7hvt",
        "colab_type": "text"
      },
      "source": [
        "![Correlation]![alt text](https://raw.githubusercontent.com/allison-givler/SRA268-Spring2020/master/images/Correlation.jpg)"
      ]
    },
    {
      "cell_type": "markdown",
      "metadata": {
        "id": "dljjONNi7jmj",
        "colab_type": "text"
      },
      "source": [
        "#### What is this telling us?"
      ]
    },
    {
      "cell_type": "markdown",
      "metadata": {
        "id": "PwZEZrFB7laG",
        "colab_type": "text"
      },
      "source": [
        "This is a scatterplot graph that is being used to see whether or not there is a correlation between the points the winning team scores and the points that the losing team scores. From this scatterplot, we can conclude that the more points that are scored by the winning team, for the most part, the less points that the losing team scores. Scatterplots are most commonly used to show the relationship between two continuous variables. Each of the variables has its own axis on the graph. The relationship in this graph is almost exactly a one to one, it would be closer without the one outlier. "
      ]
    },
    {
      "cell_type": "markdown",
      "metadata": {
        "id": "MqUdI-uL7r2s",
        "colab_type": "text"
      },
      "source": [
        "### Ranking\n"
      ]
    },
    {
      "cell_type": "markdown",
      "metadata": {
        "id": "AvlxCOVt7x9F",
        "colab_type": "text"
      },
      "source": [
        "![alt text](https://raw.githubusercontent.com/allison-givler/SRA268-Spring2020/master/images/Ranking.png)"
      ]
    },
    {
      "cell_type": "markdown",
      "metadata": {
        "id": "lCAYtfza7yTq",
        "colab_type": "text"
      },
      "source": [
        "#### What is this telling us?"
      ]
    },
    {
      "cell_type": "markdown",
      "metadata": {
        "id": "MyuciD277ygU",
        "colab_type": "text"
      },
      "source": [
        "This is an ordered bar graph that shows the ranking of total points scored in the games that the teams won. The graph is in ascending order and starts at the top with the team, of the eight selected, that scored the least amount of points and goes down to the one with the most amount of points. Ordered bar graphs are useful in showing the ranking of values in bar graphs better when they are put into either ascending or descending order. In this graph, each team with values measured is clearly labeled along with the total amount of points. "
      ]
    },
    {
      "cell_type": "markdown",
      "metadata": {
        "id": "dGDGl8-G7y8Y",
        "colab_type": "text"
      },
      "source": [
        "### Distribution\n"
      ]
    },
    {
      "cell_type": "markdown",
      "metadata": {
        "id": "FB0uV-jy76p9",
        "colab_type": "text"
      },
      "source": [
        "![alt text](https://raw.githubusercontent.com/allison-givler/SRA268-Spring2020/master/images/Distribution.png)"
      ]
    },
    {
      "cell_type": "markdown",
      "metadata": {
        "id": "_6SOzhrQ76zH",
        "colab_type": "text"
      },
      "source": [
        "#### What is this telling us?"
      ]
    },
    {
      "cell_type": "markdown",
      "metadata": {
        "id": "HBWqsS_g767h",
        "colab_type": "text"
      },
      "source": [
        "In the distribution graph, I decided to show how often each of the markets that I selected were considered ‘winning markets’ from the year 2000 to 2016. I thought that a dot strip plot was the best method for displaying this data because it is easy for the person viewing the graph to determine whether or not the team was a winning market or not that year. The way to determine so was whether or not the team had a dot over the given year. Dot strip plots are typically useful in showing individual values, which was what was used here. "
      ]
    },
    {
      "cell_type": "markdown",
      "metadata": {
        "id": "wQsDThk677Fy",
        "colab_type": "text"
      },
      "source": [
        "### Change over Time\n"
      ]
    },
    {
      "cell_type": "markdown",
      "metadata": {
        "id": "Z1j_YLOA7_OK",
        "colab_type": "text"
      },
      "source": [
        "![alt text](https://raw.githubusercontent.com/allison-givler/SRA268-Spring2020/master/images/Change%20in%20time.png)"
      ]
    },
    {
      "cell_type": "markdown",
      "metadata": {
        "id": "mpfsmmgi7_Vj",
        "colab_type": "text"
      },
      "source": [
        "#### What is this telling us?"
      ]
    },
    {
      "cell_type": "markdown",
      "metadata": {
        "id": "rYLXoMMO7_di",
        "colab_type": "text"
      },
      "source": [
        "For the change over time graph, I used a line graph, but opted to change it from a line to dots. This decision was to better emphasize the changes in the data from year to year. This graph measured the total points scored in winning games for all of the given teams over the past 18 years. When I had displayed this data with a line, you weren’t able to see the changes too well so I changed he display to dots. We use change over time graphs to see trends over time with data. This could help to predict future events and understand why past trends were the way they were. "
      ]
    },
    {
      "cell_type": "markdown",
      "metadata": {
        "id": "lFwiHoE-7_jZ",
        "colab_type": "text"
      },
      "source": [
        "### Magnitude\n"
      ]
    },
    {
      "cell_type": "markdown",
      "metadata": {
        "id": "ICQFnXj78EbF",
        "colab_type": "text"
      },
      "source": [
        "![alt text](https://raw.githubusercontent.com/allison-givler/SRA268-Spring2020/master/images/Magnitude.png)"
      ]
    },
    {
      "cell_type": "markdown",
      "metadata": {
        "id": "QGG7XYG88Eii",
        "colab_type": "text"
      },
      "source": [
        "#### What is this telling us?"
      ]
    },
    {
      "cell_type": "markdown",
      "metadata": {
        "id": "VS7uGa0l8Eos",
        "colab_type": "text"
      },
      "source": [
        "The graph that I decided to use to display magnitude was a bullet graph. The data being displayed in the bullet graph is how many points that each of the selected teams won/lost by and then compared to the average for other teams. This type of graph can be used to show where teams are currently at and where they probably should be at. The solid lines on the bullet graph represent where the team should be at, or their target/goal, and the horizontal bars represent where they are currently at. These selected teams could use this graph to set goals for themselves and help them see their progress of improvement. "
      ]
    },
    {
      "cell_type": "markdown",
      "metadata": {
        "id": "bEKFxP8R8Evk",
        "colab_type": "text"
      },
      "source": [
        "### Part-to-Whole\n"
      ]
    },
    {
      "cell_type": "markdown",
      "metadata": {
        "id": "WFHlcYKV8E35",
        "colab_type": "text"
      },
      "source": [
        "![alt text](https://raw.githubusercontent.com/allison-givler/SRA268-Spring2020/master/images/PartToWhole.png)"
      ]
    },
    {
      "cell_type": "markdown",
      "metadata": {
        "id": "PNSd3wlp8UZH",
        "colab_type": "text"
      },
      "source": [
        "#### What is this telling us?"
      ]
    },
    {
      "cell_type": "markdown",
      "metadata": {
        "id": "y9tb_QRA8aqt",
        "colab_type": "text"
      },
      "source": [
        "The part to whole graph that I decided to use was a treemap. I used the treemap to show 32 ‘losing market’ teams and the average number of points that they would lose by. On the graph, I used stepped color to distinguish between the amounts of points. The more red the part of the graph is, the more points they would lose by on average and the color would become more white with less points lost by on average. Treemaps are used for hierarchical relationships and can be difficult to read when too many variables, or parts, are added to the graph. "
      ]
    }
  ]
}