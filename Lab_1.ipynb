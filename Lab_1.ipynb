{
  "nbformat": 4,
  "nbformat_minor": 0,
  "metadata": {
    "colab": {
      "name": "Lab 1.ipynb",
      "provenance": []
    },
    "kernelspec": {
      "name": "python3",
      "display_name": "Python 3"
    }
  },
  "cells": [
    {
      "cell_type": "markdown",
      "metadata": {
        "id": "2Us45GxPxiZr",
        "colab_type": "text"
      },
      "source": [
        "#Snow accumulation for State College in 2017"
      ]
    },
    {
      "cell_type": "markdown",
      "metadata": {
        "id": "N8V5f9z3x2Ou",
        "colab_type": "text"
      },
      "source": [
        "#Brief Outline"
      ]
    },
    {
      "cell_type": "markdown",
      "metadata": {
        "id": "grBG1dBDx50d",
        "colab_type": "text"
      },
      "source": [
        "This project uses data to display the snow accumulation for State College, PA in February of 2017. The data as a whole was gathered by the National Oceanic and Atmospheric Administration and captures from 2017 through October of 2019. There is a clear variance in snow accumulation throughout 2017. Microsoft Paint will be used to display the data points on a graph to better represent the information. "
      ]
    },
    {
      "cell_type": "markdown",
      "metadata": {
        "id": "bS8xBtwbb6EZ",
        "colab_type": "text"
      },
      "source": [
        "#The Sketch"
      ]
    },
    {
      "cell_type": "markdown",
      "metadata": {
        "id": "u3B1gSZhcDGY",
        "colab_type": "text"
      },
      "source": [
        "![Graph 1](https://drive.google.com/uc?id=1T4kmoj2rkpxlUCznA6-ZQqEqHBXZ5olt)"
      ]
    },
    {
      "cell_type": "markdown",
      "metadata": {
        "id": "IvpaJTT-ffEx",
        "colab_type": "text"
      },
      "source": [
        "#Conclusions"
      ]
    },
    {
      "cell_type": "markdown",
      "metadata": {
        "id": "OcGQnR6qfis3",
        "colab_type": "text"
      },
      "source": [
        "This graph uses different shades of blue and different sizes of plots to show the variability in snow accumulation throughout the month of February. The lighter the color and smaller the shape, the less snow that was received on that day. There were a few days that received quite a few inches of snow, but the rest of the month was pretty dormant in terms of snow fall. "
      ]
    }
  ]
}